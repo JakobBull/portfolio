{
 "cells": [
  {
   "cell_type": "code",
   "execution_count": 1,
   "metadata": {},
   "outputs": [
    {
     "name": "stdout",
     "output_type": "stream",
     "text": [
      "            Net Income      ROTA       ROE   P/E Ratio\n",
      "2024-09-30  66400000.0 -0.201762  0.037253   22.997665\n",
      "2023-09-30  -7700000.0   0.01868 -0.004421 -104.429871\n",
      "2022-09-30  14000000.0 -0.014488  0.011506   46.999642\n",
      "2021-09-30  46300000.0 -0.057466  0.034483   29.041900\n"
     ]
    }
   ],
   "source": [
    "import yfinance as yf\n",
    "import pandas as pd\n",
    "\n",
    "def fetch_financial_data(ticker):\n",
    "    stock = yf.Ticker(ticker)\n",
    "    financials = stock.financials.transpose()\n",
    "    balance_sheet = stock.balance_sheet.transpose()\n",
    "    history = stock.history(period=\"20y\")\n",
    "    return financials, balance_sheet, history\n",
    "\n",
    "def calculate_ratios(financials, balance_sheet, history, shares_outstanding):\n",
    "    # Check if 'Intangible Assets' column exists\n",
    "    if 'Net Tangible Assets' not in balance_sheet.columns:\n",
    "        balance_sheet['Net Tangible Assets'] = balance_sheet['Total Assets'] - balance_sheet['Intangible Assets'] - balance_sheet['Total Liabilities']\n",
    "    \n",
    "    # Calculate ROTA (Return on Tangible Assets)\n",
    "    financials['ROTA'] = financials['Net Income'] / balance_sheet['Net Tangible Assets']\n",
    "\n",
    "    financials['ROE'] = financials['Net Income'] / balance_sheet['Stockholders Equity']\n",
    "\n",
    "    # Calculate historical P/E ratio\n",
    "    pe_ratios = []\n",
    "    for year in financials.index.year:\n",
    "        year_data = history.loc[history.index.year == year]\n",
    "        if not year_data.empty:\n",
    "            closing_price = year_data['Close'].iloc[-1]  # Use the closing price of the last month of the year\n",
    "            earnings_per_share = financials.loc[financials.index.year == year, 'Net Income'].values[0] / shares_outstanding\n",
    "            pe_ratio = closing_price / earnings_per_share\n",
    "            pe_ratios.append(pe_ratio)\n",
    "        else:\n",
    "            pe_ratios.append(None)\n",
    "    \n",
    "    financials['P/E Ratio'] = pe_ratios\n",
    "\n",
    "    return financials\n",
    "\n",
    "def main():\n",
    "    ticker = \"BV\"\n",
    "    financials, balance_sheet, history = fetch_financial_data(ticker)\n",
    "    shares_outstanding = yf.Ticker(ticker).info['sharesOutstanding']\n",
    "    financials = calculate_ratios(financials, balance_sheet, history, shares_outstanding)\n",
    "\n",
    "    # Display the financials with the calculated ROTA and P/E ratios\n",
    "    print(financials[['Net Income', 'ROTA', 'ROE', 'P/E Ratio']])\n",
    "\n",
    "if __name__ == \"__main__\":\n",
    "    main()\n"
   ]
  },
  {
   "cell_type": "code",
   "execution_count": null,
   "metadata": {},
   "outputs": [],
   "source": []
  },
  {
   "cell_type": "code",
   "execution_count": null,
   "metadata": {},
   "outputs": [],
   "source": []
  }
 ],
 "metadata": {
  "kernelspec": {
   "display_name": "portfolio",
   "language": "python",
   "name": "python3"
  },
  "language_info": {
   "codemirror_mode": {
    "name": "ipython",
    "version": 3
   },
   "file_extension": ".py",
   "mimetype": "text/x-python",
   "name": "python",
   "nbconvert_exporter": "python",
   "pygments_lexer": "ipython3",
   "version": "3.13.1"
  }
 },
 "nbformat": 4,
 "nbformat_minor": 2
}
